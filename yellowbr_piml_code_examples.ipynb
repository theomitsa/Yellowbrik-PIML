{
 "cells": [
  {
   "cell_type": "code",
   "execution_count": 2,
   "id": "9e6202a7-9833-4e6a-94a4-71af11cee501",
   "metadata": {},
   "outputs": [],
   "source": [
    "import numpy as np\n",
    "import pandas as pd\n"
   ]
  },
  {
   "cell_type": "code",
   "execution_count": 3,
   "id": "999aeec1-7b47-4355-a80a-b69c86c2e61f",
   "metadata": {},
   "outputs": [],
   "source": [
    "from piml import Experiment \n",
    "exp=Experiment(highcode_only=True)"
   ]
  },
  {
   "cell_type": "code",
   "execution_count": 4,
   "id": "c55b747c-4533-4add-9176-64d1b3b062b0",
   "metadata": {},
   "outputs": [],
   "source": [
    "income0=pd.read_csv(\"data/adult.csv\")\n",
    "income0.replace('?', np.nan, inplace=True)  # Replace '?' with NaN\n",
    "income0.dropna(inplace=True)\n",
    "income0.to_csv('data/adult_cl.csv', index=False)\n"
   ]
  },
  {
   "cell_type": "code",
   "execution_count": 5,
   "id": "737aaf50-c3ca-42e3-ab4e-30004e5f5e63",
   "metadata": {},
   "outputs": [
    {
     "data": {
      "text/plain": [
       "(45222, 15)"
      ]
     },
     "execution_count": 5,
     "metadata": {},
     "output_type": "execute_result"
    }
   ],
   "source": [
    "income1=pd.read_csv(\"data/adult_cl.csv\")\n",
    "income1.isnull().sum()\n",
    "income1.shape"
   ]
  },
  {
   "cell_type": "markdown",
   "id": "00997bc5-baae-40a4-b094-6f9c8406307e",
   "metadata": {},
   "source": [
    "### FEATURE ENGINEERING"
   ]
  },
  {
   "cell_type": "code",
   "execution_count": 6,
   "id": "d6a8bb9c-25eb-45cf-a1e7-9e8ae08352d4",
   "metadata": {},
   "outputs": [
    {
     "data": {
      "text/html": [
       "<div>\n",
       "<style scoped>\n",
       "    .dataframe tbody tr th:only-of-type {\n",
       "        vertical-align: middle;\n",
       "    }\n",
       "\n",
       "    .dataframe tbody tr th {\n",
       "        vertical-align: top;\n",
       "    }\n",
       "\n",
       "    .dataframe thead th {\n",
       "        text-align: right;\n",
       "    }\n",
       "</style>\n",
       "<table border=\"1\" class=\"dataframe\">\n",
       "  <thead>\n",
       "    <tr style=\"text-align: right;\">\n",
       "      <th></th>\n",
       "      <th>age</th>\n",
       "      <th>workclass</th>\n",
       "      <th>fnlwgt</th>\n",
       "      <th>education</th>\n",
       "      <th>marital-status</th>\n",
       "      <th>occupation</th>\n",
       "      <th>relationship</th>\n",
       "      <th>race</th>\n",
       "      <th>gender</th>\n",
       "      <th>capital-gain</th>\n",
       "      <th>capital-loss</th>\n",
       "      <th>hours-per-week</th>\n",
       "      <th>target</th>\n",
       "    </tr>\n",
       "  </thead>\n",
       "  <tbody>\n",
       "    <tr>\n",
       "      <th>0</th>\n",
       "      <td>25</td>\n",
       "      <td>Private</td>\n",
       "      <td>226802</td>\n",
       "      <td>11th</td>\n",
       "      <td>Never-married</td>\n",
       "      <td>Machine-op-inspct</td>\n",
       "      <td>Own-child</td>\n",
       "      <td>Black</td>\n",
       "      <td>Male</td>\n",
       "      <td>0</td>\n",
       "      <td>0</td>\n",
       "      <td>40</td>\n",
       "      <td>0</td>\n",
       "    </tr>\n",
       "    <tr>\n",
       "      <th>1</th>\n",
       "      <td>38</td>\n",
       "      <td>Private</td>\n",
       "      <td>89814</td>\n",
       "      <td>HS-grad</td>\n",
       "      <td>Married-civ-spouse</td>\n",
       "      <td>Farming-fishing</td>\n",
       "      <td>Husband</td>\n",
       "      <td>White</td>\n",
       "      <td>Male</td>\n",
       "      <td>0</td>\n",
       "      <td>0</td>\n",
       "      <td>50</td>\n",
       "      <td>0</td>\n",
       "    </tr>\n",
       "    <tr>\n",
       "      <th>2</th>\n",
       "      <td>28</td>\n",
       "      <td>Local-gov</td>\n",
       "      <td>336951</td>\n",
       "      <td>Assoc-acdm</td>\n",
       "      <td>Married-civ-spouse</td>\n",
       "      <td>Protective-serv</td>\n",
       "      <td>Husband</td>\n",
       "      <td>White</td>\n",
       "      <td>Male</td>\n",
       "      <td>0</td>\n",
       "      <td>0</td>\n",
       "      <td>40</td>\n",
       "      <td>1</td>\n",
       "    </tr>\n",
       "    <tr>\n",
       "      <th>3</th>\n",
       "      <td>44</td>\n",
       "      <td>Private</td>\n",
       "      <td>160323</td>\n",
       "      <td>Some-college</td>\n",
       "      <td>Married-civ-spouse</td>\n",
       "      <td>Machine-op-inspct</td>\n",
       "      <td>Husband</td>\n",
       "      <td>Black</td>\n",
       "      <td>Male</td>\n",
       "      <td>7688</td>\n",
       "      <td>0</td>\n",
       "      <td>40</td>\n",
       "      <td>1</td>\n",
       "    </tr>\n",
       "    <tr>\n",
       "      <th>4</th>\n",
       "      <td>34</td>\n",
       "      <td>Private</td>\n",
       "      <td>198693</td>\n",
       "      <td>10th</td>\n",
       "      <td>Never-married</td>\n",
       "      <td>Other-service</td>\n",
       "      <td>Not-in-family</td>\n",
       "      <td>White</td>\n",
       "      <td>Male</td>\n",
       "      <td>0</td>\n",
       "      <td>0</td>\n",
       "      <td>30</td>\n",
       "      <td>0</td>\n",
       "    </tr>\n",
       "  </tbody>\n",
       "</table>\n",
       "</div>"
      ],
      "text/plain": [
       "   age  workclass  fnlwgt     education      marital-status  \\\n",
       "0   25    Private  226802          11th       Never-married   \n",
       "1   38    Private   89814       HS-grad  Married-civ-spouse   \n",
       "2   28  Local-gov  336951    Assoc-acdm  Married-civ-spouse   \n",
       "3   44    Private  160323  Some-college  Married-civ-spouse   \n",
       "4   34    Private  198693          10th       Never-married   \n",
       "\n",
       "          occupation   relationship   race gender  capital-gain  capital-loss  \\\n",
       "0  Machine-op-inspct      Own-child  Black   Male             0             0   \n",
       "1    Farming-fishing        Husband  White   Male             0             0   \n",
       "2    Protective-serv        Husband  White   Male             0             0   \n",
       "3  Machine-op-inspct        Husband  Black   Male          7688             0   \n",
       "4      Other-service  Not-in-family  White   Male             0             0   \n",
       "\n",
       "   hours-per-week  target  \n",
       "0              40       0  \n",
       "1              50       0  \n",
       "2              40       1  \n",
       "3              40       1  \n",
       "4              30       0  "
      ]
     },
     "execution_count": 6,
     "metadata": {},
     "output_type": "execute_result"
    }
   ],
   "source": [
    "income1['target'] = income1['income'].map({'<=50K': 0, '>50K': 1})\n",
    "income1.drop('income', axis=1, inplace=True)\n",
    "income1.drop('educational-num',axis=1,inplace=True)\n",
    "income1.drop('native-country',axis=1,inplace=True)\n",
    "income1.head()"
   ]
  },
  {
   "cell_type": "code",
   "execution_count": 7,
   "id": "a683ecde-7a36-4457-a11c-1455e380d34e",
   "metadata": {},
   "outputs": [],
   "source": [
    "income1['education'].replace('Preschool', 'IncompleteED',inplace=True)\n",
    "income1['education'].replace('10th', 'IncompleteED',inplace=True)\n",
    "income1['education'].replace('11th', 'IncompleteED',inplace=True)\n",
    "income1['education'].replace('12th', 'IncompleteED',inplace=True)\n",
    "income1['education'].replace('1st-4th', 'IncompleteED',inplace=True)\n",
    "income1['education'].replace('5th-6th', 'IncompleteED',inplace=True)\n",
    "income1['education'].replace('7th-8th', 'IncompleteED',inplace=True)\n",
    "income1['education'].replace('9th', 'IncompleteED',inplace=True)\n",
    "income1['education'].replace('Some-college', 'CommunityCollege',inplace=True)\n",
    "income1['education'].replace('Assoc-acdm', 'CommunityCollege',inplace=True)\n",
    "income1['education'].replace('Assoc-voc', 'CommunityCollege',inplace=True)\n"
   ]
  },
  {
   "cell_type": "code",
   "execution_count": 8,
   "id": "91d23777-2015-4e57-9b7c-a9b5134866e5",
   "metadata": {},
   "outputs": [],
   "source": [
    "income1['marital-status'].replace('Never-married', 'NotMarried',inplace=True)\n",
    "income1['marital-status'].replace(['Married-AF-spouse'], 'Married',inplace=True)\n",
    "income1['marital-status'].replace(['Married-civ-spouse'], 'Married',inplace=True)\n",
    "income1['marital-status'].replace(['Married-spouse-absent'], 'NotMarried',inplace=True)\n",
    "income1['marital-status'].replace(['Separated'], 'Separated',inplace=True)\n",
    "income1['marital-status'].replace(['Divorced'], 'Separated',inplace=True)\n",
    "income1['marital-status'].replace(['Widowed'], 'Widowed',inplace=True)"
   ]
  },
  {
   "cell_type": "code",
   "execution_count": 9,
   "id": "2b09c0f4-b9ad-480c-924a-ccaf1200fa0c",
   "metadata": {},
   "outputs": [
    {
     "data": {
      "text/html": [
       "<div>\n",
       "<style scoped>\n",
       "    .dataframe tbody tr th:only-of-type {\n",
       "        vertical-align: middle;\n",
       "    }\n",
       "\n",
       "    .dataframe tbody tr th {\n",
       "        vertical-align: top;\n",
       "    }\n",
       "\n",
       "    .dataframe thead th {\n",
       "        text-align: right;\n",
       "    }\n",
       "</style>\n",
       "<table border=\"1\" class=\"dataframe\">\n",
       "  <thead>\n",
       "    <tr style=\"text-align: right;\">\n",
       "      <th></th>\n",
       "      <th>age</th>\n",
       "      <th>workclass</th>\n",
       "      <th>fnlwgt</th>\n",
       "      <th>education</th>\n",
       "      <th>marital-status</th>\n",
       "      <th>occupation</th>\n",
       "      <th>relationship</th>\n",
       "      <th>race</th>\n",
       "      <th>gender</th>\n",
       "      <th>capital-gain</th>\n",
       "      <th>capital-loss</th>\n",
       "      <th>hours-per-week</th>\n",
       "      <th>target</th>\n",
       "    </tr>\n",
       "  </thead>\n",
       "  <tbody>\n",
       "    <tr>\n",
       "      <th>0</th>\n",
       "      <td>25</td>\n",
       "      <td>Private</td>\n",
       "      <td>226802</td>\n",
       "      <td>IncompleteED</td>\n",
       "      <td>NotMarried</td>\n",
       "      <td>Machine-op-inspct</td>\n",
       "      <td>Own-child</td>\n",
       "      <td>Black</td>\n",
       "      <td>Male</td>\n",
       "      <td>0</td>\n",
       "      <td>0</td>\n",
       "      <td>40</td>\n",
       "      <td>0</td>\n",
       "    </tr>\n",
       "    <tr>\n",
       "      <th>1</th>\n",
       "      <td>38</td>\n",
       "      <td>Private</td>\n",
       "      <td>89814</td>\n",
       "      <td>HS-grad</td>\n",
       "      <td>Married</td>\n",
       "      <td>Farming-fishing</td>\n",
       "      <td>Husband</td>\n",
       "      <td>White</td>\n",
       "      <td>Male</td>\n",
       "      <td>0</td>\n",
       "      <td>0</td>\n",
       "      <td>50</td>\n",
       "      <td>0</td>\n",
       "    </tr>\n",
       "    <tr>\n",
       "      <th>2</th>\n",
       "      <td>28</td>\n",
       "      <td>Local-gov</td>\n",
       "      <td>336951</td>\n",
       "      <td>CommunityCollege</td>\n",
       "      <td>Married</td>\n",
       "      <td>Protective-serv</td>\n",
       "      <td>Husband</td>\n",
       "      <td>White</td>\n",
       "      <td>Male</td>\n",
       "      <td>0</td>\n",
       "      <td>0</td>\n",
       "      <td>40</td>\n",
       "      <td>1</td>\n",
       "    </tr>\n",
       "    <tr>\n",
       "      <th>3</th>\n",
       "      <td>44</td>\n",
       "      <td>Private</td>\n",
       "      <td>160323</td>\n",
       "      <td>CommunityCollege</td>\n",
       "      <td>Married</td>\n",
       "      <td>Machine-op-inspct</td>\n",
       "      <td>Husband</td>\n",
       "      <td>Black</td>\n",
       "      <td>Male</td>\n",
       "      <td>7688</td>\n",
       "      <td>0</td>\n",
       "      <td>40</td>\n",
       "      <td>1</td>\n",
       "    </tr>\n",
       "    <tr>\n",
       "      <th>4</th>\n",
       "      <td>34</td>\n",
       "      <td>Private</td>\n",
       "      <td>198693</td>\n",
       "      <td>IncompleteED</td>\n",
       "      <td>NotMarried</td>\n",
       "      <td>Other-service</td>\n",
       "      <td>Not-in-family</td>\n",
       "      <td>White</td>\n",
       "      <td>Male</td>\n",
       "      <td>0</td>\n",
       "      <td>0</td>\n",
       "      <td>30</td>\n",
       "      <td>0</td>\n",
       "    </tr>\n",
       "  </tbody>\n",
       "</table>\n",
       "</div>"
      ],
      "text/plain": [
       "   age  workclass  fnlwgt         education marital-status         occupation  \\\n",
       "0   25    Private  226802      IncompleteED     NotMarried  Machine-op-inspct   \n",
       "1   38    Private   89814           HS-grad        Married    Farming-fishing   \n",
       "2   28  Local-gov  336951  CommunityCollege        Married    Protective-serv   \n",
       "3   44    Private  160323  CommunityCollege        Married  Machine-op-inspct   \n",
       "4   34    Private  198693      IncompleteED     NotMarried      Other-service   \n",
       "\n",
       "    relationship   race gender  capital-gain  capital-loss  hours-per-week  \\\n",
       "0      Own-child  Black   Male             0             0              40   \n",
       "1        Husband  White   Male             0             0              50   \n",
       "2        Husband  White   Male             0             0              40   \n",
       "3        Husband  Black   Male          7688             0              40   \n",
       "4  Not-in-family  White   Male             0             0              30   \n",
       "\n",
       "   target  \n",
       "0       0  \n",
       "1       0  \n",
       "2       1  \n",
       "3       1  \n",
       "4       0  "
      ]
     },
     "execution_count": 9,
     "metadata": {},
     "output_type": "execute_result"
    }
   ],
   "source": [
    "income1.head()"
   ]
  },
  {
   "cell_type": "code",
   "execution_count": 10,
   "id": "d802cd6d-c37f-4f7a-8742-7504e7b925ee",
   "metadata": {},
   "outputs": [
    {
     "data": {
      "text/html": [
       "<div>\n",
       "<style scoped>\n",
       "    .dataframe tbody tr th:only-of-type {\n",
       "        vertical-align: middle;\n",
       "    }\n",
       "\n",
       "    .dataframe tbody tr th {\n",
       "        vertical-align: top;\n",
       "    }\n",
       "\n",
       "    .dataframe thead th {\n",
       "        text-align: right;\n",
       "    }\n",
       "</style>\n",
       "<table border=\"1\" class=\"dataframe\">\n",
       "  <thead>\n",
       "    <tr style=\"text-align: right;\">\n",
       "      <th></th>\n",
       "      <th>age</th>\n",
       "      <th>workclass</th>\n",
       "      <th>fnlwgt</th>\n",
       "      <th>education</th>\n",
       "      <th>marital-status</th>\n",
       "      <th>occupation</th>\n",
       "      <th>relationship</th>\n",
       "      <th>race</th>\n",
       "      <th>gender</th>\n",
       "      <th>capital-gain</th>\n",
       "      <th>capital-loss</th>\n",
       "      <th>hours-per-week</th>\n",
       "      <th>target</th>\n",
       "    </tr>\n",
       "  </thead>\n",
       "  <tbody>\n",
       "    <tr>\n",
       "      <th>0</th>\n",
       "      <td>25</td>\n",
       "      <td>Private</td>\n",
       "      <td>226802</td>\n",
       "      <td>IncompleteED</td>\n",
       "      <td>NotMarried</td>\n",
       "      <td>Machine-op-inspct</td>\n",
       "      <td>Own-child</td>\n",
       "      <td>Black</td>\n",
       "      <td>Male</td>\n",
       "      <td>0</td>\n",
       "      <td>0</td>\n",
       "      <td>40</td>\n",
       "      <td>0</td>\n",
       "    </tr>\n",
       "    <tr>\n",
       "      <th>1</th>\n",
       "      <td>38</td>\n",
       "      <td>Private</td>\n",
       "      <td>89814</td>\n",
       "      <td>HS-grad</td>\n",
       "      <td>Married</td>\n",
       "      <td>Farming-fishing</td>\n",
       "      <td>Husband</td>\n",
       "      <td>White</td>\n",
       "      <td>Male</td>\n",
       "      <td>0</td>\n",
       "      <td>0</td>\n",
       "      <td>50</td>\n",
       "      <td>0</td>\n",
       "    </tr>\n",
       "    <tr>\n",
       "      <th>2</th>\n",
       "      <td>28</td>\n",
       "      <td>Local-gov</td>\n",
       "      <td>336951</td>\n",
       "      <td>CommunityCollege</td>\n",
       "      <td>Married</td>\n",
       "      <td>Protective-serv</td>\n",
       "      <td>Husband</td>\n",
       "      <td>White</td>\n",
       "      <td>Male</td>\n",
       "      <td>0</td>\n",
       "      <td>0</td>\n",
       "      <td>40</td>\n",
       "      <td>1</td>\n",
       "    </tr>\n",
       "    <tr>\n",
       "      <th>3</th>\n",
       "      <td>44</td>\n",
       "      <td>Private</td>\n",
       "      <td>160323</td>\n",
       "      <td>CommunityCollege</td>\n",
       "      <td>Married</td>\n",
       "      <td>Machine-op-inspct</td>\n",
       "      <td>Husband</td>\n",
       "      <td>Black</td>\n",
       "      <td>Male</td>\n",
       "      <td>7688</td>\n",
       "      <td>0</td>\n",
       "      <td>40</td>\n",
       "      <td>1</td>\n",
       "    </tr>\n",
       "    <tr>\n",
       "      <th>4</th>\n",
       "      <td>34</td>\n",
       "      <td>Private</td>\n",
       "      <td>198693</td>\n",
       "      <td>IncompleteED</td>\n",
       "      <td>NotMarried</td>\n",
       "      <td>Other-service</td>\n",
       "      <td>Not-in-family</td>\n",
       "      <td>White</td>\n",
       "      <td>Male</td>\n",
       "      <td>0</td>\n",
       "      <td>0</td>\n",
       "      <td>30</td>\n",
       "      <td>0</td>\n",
       "    </tr>\n",
       "    <tr>\n",
       "      <th>...</th>\n",
       "      <td>...</td>\n",
       "      <td>...</td>\n",
       "      <td>...</td>\n",
       "      <td>...</td>\n",
       "      <td>...</td>\n",
       "      <td>...</td>\n",
       "      <td>...</td>\n",
       "      <td>...</td>\n",
       "      <td>...</td>\n",
       "      <td>...</td>\n",
       "      <td>...</td>\n",
       "      <td>...</td>\n",
       "      <td>...</td>\n",
       "    </tr>\n",
       "    <tr>\n",
       "      <th>45217</th>\n",
       "      <td>27</td>\n",
       "      <td>Private</td>\n",
       "      <td>257302</td>\n",
       "      <td>CommunityCollege</td>\n",
       "      <td>Married</td>\n",
       "      <td>Tech-support</td>\n",
       "      <td>Wife</td>\n",
       "      <td>White</td>\n",
       "      <td>Female</td>\n",
       "      <td>0</td>\n",
       "      <td>0</td>\n",
       "      <td>38</td>\n",
       "      <td>0</td>\n",
       "    </tr>\n",
       "    <tr>\n",
       "      <th>45218</th>\n",
       "      <td>40</td>\n",
       "      <td>Private</td>\n",
       "      <td>154374</td>\n",
       "      <td>HS-grad</td>\n",
       "      <td>Married</td>\n",
       "      <td>Machine-op-inspct</td>\n",
       "      <td>Husband</td>\n",
       "      <td>White</td>\n",
       "      <td>Male</td>\n",
       "      <td>0</td>\n",
       "      <td>0</td>\n",
       "      <td>40</td>\n",
       "      <td>1</td>\n",
       "    </tr>\n",
       "    <tr>\n",
       "      <th>45219</th>\n",
       "      <td>58</td>\n",
       "      <td>Private</td>\n",
       "      <td>151910</td>\n",
       "      <td>HS-grad</td>\n",
       "      <td>Widowed</td>\n",
       "      <td>Adm-clerical</td>\n",
       "      <td>Unmarried</td>\n",
       "      <td>White</td>\n",
       "      <td>Female</td>\n",
       "      <td>0</td>\n",
       "      <td>0</td>\n",
       "      <td>40</td>\n",
       "      <td>0</td>\n",
       "    </tr>\n",
       "    <tr>\n",
       "      <th>45220</th>\n",
       "      <td>22</td>\n",
       "      <td>Private</td>\n",
       "      <td>201490</td>\n",
       "      <td>HS-grad</td>\n",
       "      <td>NotMarried</td>\n",
       "      <td>Adm-clerical</td>\n",
       "      <td>Own-child</td>\n",
       "      <td>White</td>\n",
       "      <td>Male</td>\n",
       "      <td>0</td>\n",
       "      <td>0</td>\n",
       "      <td>20</td>\n",
       "      <td>0</td>\n",
       "    </tr>\n",
       "    <tr>\n",
       "      <th>45221</th>\n",
       "      <td>52</td>\n",
       "      <td>Self-emp-inc</td>\n",
       "      <td>287927</td>\n",
       "      <td>HS-grad</td>\n",
       "      <td>Married</td>\n",
       "      <td>Exec-managerial</td>\n",
       "      <td>Wife</td>\n",
       "      <td>White</td>\n",
       "      <td>Female</td>\n",
       "      <td>15024</td>\n",
       "      <td>0</td>\n",
       "      <td>40</td>\n",
       "      <td>1</td>\n",
       "    </tr>\n",
       "  </tbody>\n",
       "</table>\n",
       "<p>45222 rows × 13 columns</p>\n",
       "</div>"
      ],
      "text/plain": [
       "       age     workclass  fnlwgt         education marital-status  \\\n",
       "0       25       Private  226802      IncompleteED     NotMarried   \n",
       "1       38       Private   89814           HS-grad        Married   \n",
       "2       28     Local-gov  336951  CommunityCollege        Married   \n",
       "3       44       Private  160323  CommunityCollege        Married   \n",
       "4       34       Private  198693      IncompleteED     NotMarried   \n",
       "...    ...           ...     ...               ...            ...   \n",
       "45217   27       Private  257302  CommunityCollege        Married   \n",
       "45218   40       Private  154374           HS-grad        Married   \n",
       "45219   58       Private  151910           HS-grad        Widowed   \n",
       "45220   22       Private  201490           HS-grad     NotMarried   \n",
       "45221   52  Self-emp-inc  287927           HS-grad        Married   \n",
       "\n",
       "              occupation   relationship   race  gender  capital-gain  \\\n",
       "0      Machine-op-inspct      Own-child  Black    Male             0   \n",
       "1        Farming-fishing        Husband  White    Male             0   \n",
       "2        Protective-serv        Husband  White    Male             0   \n",
       "3      Machine-op-inspct        Husband  Black    Male          7688   \n",
       "4          Other-service  Not-in-family  White    Male             0   \n",
       "...                  ...            ...    ...     ...           ...   \n",
       "45217       Tech-support           Wife  White  Female             0   \n",
       "45218  Machine-op-inspct        Husband  White    Male             0   \n",
       "45219       Adm-clerical      Unmarried  White  Female             0   \n",
       "45220       Adm-clerical      Own-child  White    Male             0   \n",
       "45221    Exec-managerial           Wife  White  Female         15024   \n",
       "\n",
       "       capital-loss  hours-per-week  target  \n",
       "0                 0              40       0  \n",
       "1                 0              50       0  \n",
       "2                 0              40       1  \n",
       "3                 0              40       1  \n",
       "4                 0              30       0  \n",
       "...             ...             ...     ...  \n",
       "45217             0              38       0  \n",
       "45218             0              40       1  \n",
       "45219             0              40       0  \n",
       "45220             0              20       0  \n",
       "45221             0              40       1  \n",
       "\n",
       "[45222 rows x 13 columns]"
      ]
     },
     "metadata": {},
     "output_type": "display_data"
    }
   ],
   "source": [
    "jk=exp.data_loader(data=income1)\n"
   ]
  },
  {
   "cell_type": "markdown",
   "id": "10d98472-48de-443d-a4a3-bc3453b0cf12",
   "metadata": {},
   "source": [
    "## EDA"
   ]
  },
  {
   "cell_type": "code",
   "execution_count": 11,
   "id": "e7ae0fe0-143e-4a3d-bf86-72e1ca3acf63",
   "metadata": {},
   "outputs": [
    {
     "data": {
      "application/vnd.jupyter.widget-view+json": {
       "model_id": "05bcb7cc46934514a0a7485e7a23686e",
       "version_major": 2,
       "version_minor": 0
      },
      "text/plain": [
       "VBox(children=(HBox(children=(VBox(children=(HTML(value='<h4>Univariate:</h4>'), HBox(children=(Dropdown(layou…"
      ]
     },
     "metadata": {},
     "output_type": "display_data"
    }
   ],
   "source": [
    "exp.eda()"
   ]
  },
  {
   "cell_type": "markdown",
   "id": "810d5db8-a8eb-4b13-b426-55d23fe57cd4",
   "metadata": {},
   "source": [
    "## DATA PREPARATION"
   ]
  },
  {
   "cell_type": "code",
   "execution_count": 12,
   "id": "08952f7c-f110-421a-97b6-94130a0f746a",
   "metadata": {},
   "outputs": [
    {
     "data": {
      "application/vnd.jupyter.widget-view+json": {
       "model_id": "5805d45a5621444fbb7fc1c3e4a03ce6",
       "version_major": 2,
       "version_minor": 0
      },
      "text/plain": [
       "VBox(children=(HBox(children=(VBox(children=(HTML(value='<p>Target Variable:</p>'), HTML(value='<p>Split Metho…"
      ]
     },
     "metadata": {},
     "output_type": "display_data"
    }
   ],
   "source": [
    "exp.data_prepare()\n"
   ]
  },
  {
   "cell_type": "markdown",
   "id": "ccecddb1-7b48-459d-8a63-d2ad68d0ba6e",
   "metadata": {},
   "source": [
    "## MODEL TRAINING"
   ]
  },
  {
   "cell_type": "code",
   "execution_count": 13,
   "id": "4b0721da-875b-4e8e-8921-dc755bcef967",
   "metadata": {},
   "outputs": [
    {
     "data": {
      "text/html": [
       "<link rel=\"stylesheet\" href=\"https://stackpath.bootstrapcdn.com/font-awesome/4.7.0/css/font-awesome.min.css\"> "
      ],
      "text/plain": [
       "<IPython.core.display.HTML object>"
      ]
     },
     "metadata": {},
     "output_type": "display_data"
    },
    {
     "data": {
      "application/vnd.jupyter.widget-view+json": {
       "model_id": "a33b7cf0362e4b25879c661fb8839d35",
       "version_major": 2,
       "version_minor": 0
      },
      "text/plain": [
       "VBox(children=(Box(children=(Box(children=(HTML(value=\"<h4 style='margin: 10px 0px;'>Choose Model</h4>\"), Box(…"
      ]
     },
     "metadata": {},
     "output_type": "display_data"
    }
   ],
   "source": [
    "exp.model_train()"
   ]
  },
  {
   "cell_type": "markdown",
   "id": "802cf54e-2f89-4be2-8ad0-824fcf423653",
   "metadata": {},
   "source": [
    "## INTERPRETABILITY"
   ]
  },
  {
   "cell_type": "code",
   "execution_count": 14,
   "id": "934fe0b3-712e-4bb8-9120-5c39cd01ec00",
   "metadata": {},
   "outputs": [
    {
     "data": {
      "application/vnd.jupyter.widget-view+json": {
       "model_id": "01d0f7acee6d445a841781c742b93ed7",
       "version_major": 2,
       "version_minor": 0
      },
      "text/plain": [
       "VBox(children=(Dropdown(layout=Layout(width='20%'), options=('Select Model', 'XGB2', 'XGB1', 'ReLU-DNN', 'EBM'…"
      ]
     },
     "metadata": {},
     "output_type": "display_data"
    }
   ],
   "source": [
    "exp.model_explain()"
   ]
  },
  {
   "cell_type": "markdown",
   "id": "f7154dfa-bdbd-495b-be3e-9c9777613152",
   "metadata": {},
   "source": [
    "## WEAKSPOT ANALYSIS"
   ]
  },
  {
   "cell_type": "code",
   "execution_count": 30,
   "id": "4b944833-5a27-4724-bf22-76f99bde460d",
   "metadata": {
    "scrolled": true
   },
   "outputs": [
    {
     "data": {
      "image/png": "[encoded data removed]",
      "text/plain": [
       "<Figure size 600x500 with 2 Axes>"
      ]
     },
     "metadata": {},
     "output_type": "display_data"
    }
   ],
   "source": [
    "exp.model_diagnose(model=\"EBM\", show=\"weakspot\", metric=\"ACC\",\n",
    "          slice_method=\"histogram\", slice_features=[\"marital-status\"],\n",
    "          threshold=1.1, min_samples=20, use_test=False, figsize=(6,5))"
   ]
  },
  {
   "cell_type": "markdown",
   "id": "37c7255e-bde0-4424-8c43-e934dcff552c",
   "metadata": {},
   "source": [
    "## MAPPING OF INTERNAL CATEGORIES TO DATA LABELS"
   ]
  },
  {
   "cell_type": "code",
   "execution_count": 24,
   "id": "47bc0b05-4351-40b9-a623-03e4724ddf02",
   "metadata": {},
   "outputs": [
    {
     "name": "stdout",
     "output_type": "stream",
     "text": [
      "{0: 'Married', 1: 'NotMarried', 2: 'Separated', 3: 'Widowed'}\n"
     ]
    }
   ],
   "source": [
    "income1['marital-status'] = income1['marital-status'].astype('category')\n",
    "\n",
    "# Generate the mapping from category labels to integer codes\n",
    "marital_mapping = dict(enumerate(income1['marital-status'].cat.categories))\n",
    "\n",
    "# Print the mapping\n",
    "print(marital_mapping)"
   ]
  },
  {
   "cell_type": "markdown",
   "id": "7235d977-ef52-4319-afe1-cfabad1ab149",
   "metadata": {},
   "source": [
    "## RELIABILITY ANALYSIS"
   ]
  },
  {
   "cell_type": "code",
   "execution_count": 28,
   "id": "75c1f2ae-20c9-4b07-8229-90fb0811c026",
   "metadata": {},
   "outputs": [
    {
     "data": {
      "image/png": "[encoded data removed]",
      "text/plain": [
       "<Figure size 500x400 with 1 Axes>"
      ]
     },
     "metadata": {},
     "output_type": "display_data"
    }
   ],
   "source": [
    "exp.model_diagnose(model=\"EBM\", show=\"reliability_distance\",\n",
    "                   threshold=1.1, distance_metric=\"PSI\", figsize=(5, 4))"
   ]
  },
  {
   "cell_type": "markdown",
   "id": "8cde3786-e3d9-4545-a1dd-49a6905bc979",
   "metadata": {},
   "source": [
    "## ROBUSTNESS ANALYSIS"
   ]
  },
  {
   "cell_type": "code",
   "execution_count": 15,
   "id": "4fc1afe3-9964-485d-8ef7-3c4e15a39712",
   "metadata": {},
   "outputs": [
    {
     "data": {
      "image/png": "[encoded data removed]",
      "text/plain": [
       "<Figure size 600x400 with 1 Axes>"
      ]
     },
     "metadata": {},
     "output_type": "display_data"
    }
   ],
   "source": [
    "exp.model_diagnose(model=\"XGB1\", show='robustness_perf', perturb_features=None,\n",
    "                  perturb_method=\"quantile\", metric=\"ACC\", perturb_size=0.1, figsize=(6, 4))"
   ]
  },
  {
   "cell_type": "markdown",
   "id": "97cae065-c0ff-431d-ae5b-7338ed700f0f",
   "metadata": {},
   "source": [
    "## SEGMENT DIAGNOSTICS"
   ]
  },
  {
   "cell_type": "code",
   "execution_count": 15,
   "id": "1b950e7c-2166-4b7d-9c61-b51332a04259",
   "metadata": {},
   "outputs": [
    {
     "data": {
      "text/html": [
       "<style type=\"text/css\">\n",
       "#T_31d92_row0_col0, #T_31d92_row0_col1, #T_31d92_row0_col2, #T_31d92_row0_col3, #T_31d92_row0_col4, #T_31d92_row1_col0, #T_31d92_row1_col1, #T_31d92_row1_col2, #T_31d92_row1_col3, #T_31d92_row1_col4, #T_31d92_row2_col0, #T_31d92_row2_col1, #T_31d92_row2_col2, #T_31d92_row2_col3, #T_31d92_row2_col4, #T_31d92_row3_col0, #T_31d92_row3_col1, #T_31d92_row3_col2, #T_31d92_row3_col3, #T_31d92_row3_col4, #T_31d92_row4_col0, #T_31d92_row4_col1, #T_31d92_row4_col2, #T_31d92_row4_col3, #T_31d92_row4_col4, #T_31d92_row5_col0, #T_31d92_row5_col1, #T_31d92_row5_col2, #T_31d92_row5_col3, #T_31d92_row5_col4, #T_31d92_row6_col0, #T_31d92_row6_col1, #T_31d92_row6_col2, #T_31d92_row6_col3, #T_31d92_row6_col4 {\n",
       "  width: 9em;\n",
       "}\n",
       "</style>\n",
       "<table id=\"T_31d92\">\n",
       "  <thead>\n",
       "    <tr>\n",
       "      <th class=\"blank level0\" >&nbsp;</th>\n",
       "      <th id=\"T_31d92_level0_col0\" class=\"col_heading level0 col0\" >Segment ID</th>\n",
       "      <th id=\"T_31d92_level0_col1\" class=\"col_heading level0 col1\" >Feature</th>\n",
       "      <th id=\"T_31d92_level0_col2\" class=\"col_heading level0 col2\" >Segment</th>\n",
       "      <th id=\"T_31d92_level0_col3\" class=\"col_heading level0 col3\" >Size</th>\n",
       "      <th id=\"T_31d92_level0_col4\" class=\"col_heading level0 col4\" >ACC</th>\n",
       "    </tr>\n",
       "  </thead>\n",
       "  <tbody>\n",
       "    <tr>\n",
       "      <th id=\"T_31d92_level0_row0\" class=\"row_heading level0 row0\" >0</th>\n",
       "      <td id=\"T_31d92_row0_col0\" class=\"data row0 col0\" >0</td>\n",
       "      <td id=\"T_31d92_row0_col1\" class=\"data row0 col1\" >education</td>\n",
       "      <td id=\"T_31d92_row0_col2\" class=\"data row0 col2\" >2.000000</td>\n",
       "      <td id=\"T_31d92_row0_col3\" class=\"data row0 col3\" >106</td>\n",
       "      <td id=\"T_31d92_row0_col4\" class=\"data row0 col4\" >0.462264</td>\n",
       "    </tr>\n",
       "    <tr>\n",
       "      <th id=\"T_31d92_level0_row1\" class=\"row_heading level0 row1\" >1</th>\n",
       "      <td id=\"T_31d92_row1_col0\" class=\"data row1 col0\" >1</td>\n",
       "      <td id=\"T_31d92_row1_col1\" class=\"data row1 col1\" >education</td>\n",
       "      <td id=\"T_31d92_row1_col2\" class=\"data row1 col2\" >5.000000</td>\n",
       "      <td id=\"T_31d92_row1_col3\" class=\"data row1 col3\" >485</td>\n",
       "      <td id=\"T_31d92_row1_col4\" class=\"data row1 col4\" >0.550515</td>\n",
       "    </tr>\n",
       "    <tr>\n",
       "      <th id=\"T_31d92_level0_row2\" class=\"row_heading level0 row2\" >2</th>\n",
       "      <td id=\"T_31d92_row2_col0\" class=\"data row2 col0\" >2</td>\n",
       "      <td id=\"T_31d92_row2_col1\" class=\"data row2 col1\" >education</td>\n",
       "      <td id=\"T_31d92_row2_col2\" class=\"data row2 col2\" >6.000000</td>\n",
       "      <td id=\"T_31d92_row2_col3\" class=\"data row2 col3\" >167</td>\n",
       "      <td id=\"T_31d92_row2_col4\" class=\"data row2 col4\" >0.610778</td>\n",
       "    </tr>\n",
       "    <tr>\n",
       "      <th id=\"T_31d92_level0_row3\" class=\"row_heading level0 row3\" >3</th>\n",
       "      <td id=\"T_31d92_row3_col0\" class=\"data row3 col0\" >3</td>\n",
       "      <td id=\"T_31d92_row3_col1\" class=\"data row3 col1\" >education</td>\n",
       "      <td id=\"T_31d92_row3_col2\" class=\"data row3 col2\" >0.000000</td>\n",
       "      <td id=\"T_31d92_row3_col3\" class=\"data row3 col3\" >1538</td>\n",
       "      <td id=\"T_31d92_row3_col4\" class=\"data row3 col4\" >0.711313</td>\n",
       "    </tr>\n",
       "    <tr>\n",
       "      <th id=\"T_31d92_level0_row4\" class=\"row_heading level0 row4\" >4</th>\n",
       "      <td id=\"T_31d92_row4_col0\" class=\"data row4 col0\" >4</td>\n",
       "      <td id=\"T_31d92_row4_col1\" class=\"data row4 col1\" >education</td>\n",
       "      <td id=\"T_31d92_row4_col2\" class=\"data row4 col2\" >1.000000</td>\n",
       "      <td id=\"T_31d92_row4_col3\" class=\"data row4 col3\" >2712</td>\n",
       "      <td id=\"T_31d92_row4_col4\" class=\"data row4 col4\" >0.803835</td>\n",
       "    </tr>\n",
       "    <tr>\n",
       "      <th id=\"T_31d92_level0_row5\" class=\"row_heading level0 row5\" >5</th>\n",
       "      <td id=\"T_31d92_row5_col0\" class=\"data row5 col0\" >5</td>\n",
       "      <td id=\"T_31d92_row5_col1\" class=\"data row5 col1\" >education</td>\n",
       "      <td id=\"T_31d92_row5_col2\" class=\"data row5 col2\" >3.000000</td>\n",
       "      <td id=\"T_31d92_row5_col3\" class=\"data row5 col3\" >2938</td>\n",
       "      <td id=\"T_31d92_row5_col4\" class=\"data row5 col4\" >0.854323</td>\n",
       "    </tr>\n",
       "    <tr>\n",
       "      <th id=\"T_31d92_level0_row6\" class=\"row_heading level0 row6\" >6</th>\n",
       "      <td id=\"T_31d92_row6_col0\" class=\"data row6 col0\" >6</td>\n",
       "      <td id=\"T_31d92_row6_col1\" class=\"data row6 col1\" >education</td>\n",
       "      <td id=\"T_31d92_row6_col2\" class=\"data row6 col2\" >4.000000</td>\n",
       "      <td id=\"T_31d92_row6_col3\" class=\"data row6 col3\" >1099</td>\n",
       "      <td id=\"T_31d92_row6_col4\" class=\"data row6 col4\" >0.946315</td>\n",
       "    </tr>\n",
       "  </tbody>\n",
       "</table>\n"
      ],
      "text/plain": [
       "<pandas.io.formats.style.Styler at 0x1f50a6138e0>"
      ]
     },
     "metadata": {},
     "output_type": "display_data"
    }
   ],
   "source": [
    "result = exp.segmented_diagnose(model='XGB1', show='segment_table',\n",
    "         segment_method='uniform', segment_feature='education', \n",
    "         segment_bins=5, return_data=True)"
   ]
  },
  {
   "cell_type": "markdown",
   "id": "65d9aef1-25ef-4510-9081-69c5249396ef",
   "metadata": {},
   "source": [
    "## DETAILED SEGMENT ANALYSIS"
   ]
  },
  {
   "cell_type": "code",
   "execution_count": 18,
   "id": "f24e2216-a651-48aa-8590-4dea9462ba2d",
   "metadata": {},
   "outputs": [
    {
     "data": {
      "text/html": [
       "<div>\n",
       "<style scoped>\n",
       "    .dataframe tbody tr th:only-of-type {\n",
       "        vertical-align: middle;\n",
       "    }\n",
       "\n",
       "    .dataframe tbody tr th {\n",
       "        vertical-align: top;\n",
       "    }\n",
       "\n",
       "    .dataframe thead th {\n",
       "        text-align: right;\n",
       "    }\n",
       "</style>\n",
       "<table border=\"1\" class=\"dataframe\">\n",
       "  <thead>\n",
       "    <tr style=\"text-align: right;\">\n",
       "      <th></th>\n",
       "      <th>ACC</th>\n",
       "      <th>AUC</th>\n",
       "      <th>F1</th>\n",
       "      <th>LogLoss</th>\n",
       "      <th>Brier</th>\n",
       "    </tr>\n",
       "    <tr>\n",
       "      <th></th>\n",
       "      <th></th>\n",
       "      <th></th>\n",
       "      <th></th>\n",
       "      <th></th>\n",
       "      <th></th>\n",
       "    </tr>\n",
       "  </thead>\n",
       "  <tbody>\n",
       "    <tr>\n",
       "      <th>Train</th>\n",
       "      <td>0.4863</td>\n",
       "      <td>0.7679</td>\n",
       "      <td>0.4706</td>\n",
       "      <td>1.1093</td>\n",
       "      <td>0.3762</td>\n",
       "    </tr>\n",
       "    <tr>\n",
       "      <th>Test</th>\n",
       "      <td>0.4623</td>\n",
       "      <td>0.7821</td>\n",
       "      <td>0.4124</td>\n",
       "      <td>1.1401</td>\n",
       "      <td>0.3906</td>\n",
       "    </tr>\n",
       "    <tr>\n",
       "      <th>Gap</th>\n",
       "      <td>-0.0240</td>\n",
       "      <td>0.0143</td>\n",
       "      <td>-0.0582</td>\n",
       "      <td>0.0308</td>\n",
       "      <td>0.0144</td>\n",
       "    </tr>\n",
       "  </tbody>\n",
       "</table>\n",
       "</div>"
      ],
      "text/plain": [
       "           ACC     AUC       F1 LogLoss   Brier\n",
       "                                               \n",
       "Train   0.4863  0.7679   0.4706  1.1093  0.3762\n",
       "Test    0.4623  0.7821   0.4124  1.1401  0.3906\n",
       "Gap    -0.0240  0.0143  -0.0582  0.0308  0.0144"
      ]
     },
     "metadata": {},
     "output_type": "display_data"
    }
   ],
   "source": [
    "result = exp.segmented_diagnose(model='XGB1', show='accuracy_table', segment_id=0, segment_feature='education', return_data=True)\n"
   ]
  },
  {
   "cell_type": "code",
   "execution_count": null,
   "id": "5df082c4-454e-4b89-82a4-631120e87b34",
   "metadata": {},
   "outputs": [],
   "source": []
  },
  {
   "cell_type": "code",
   "execution_count": null,
   "id": "b43b2462-ac34-4293-b686-3e776c3b2ad4",
   "metadata": {},
   "outputs": [],
   "source": []
  },
  {
   "cell_type": "code",
   "execution_count": null,
   "id": "f24a9ca4-2834-482b-8a20-38b033dac83c",
   "metadata": {},
   "outputs": [],
   "source": []
  }
 ],
 "metadata": {
  "kernelspec": {
   "display_name": "Python (mypiml)",
   "language": "python",
   "name": "piml"
  },
  "language_info": {
   "codemirror_mode": {
    "name": "ipython",
    "version": 3
   },
   "file_extension": ".py",
   "mimetype": "text/x-python",
   "name": "python",
   "nbconvert_exporter": "python",
   "pygments_lexer": "ipython3",
   "version": "3.10.14"
  }
 },
 "nbformat": 4,
 "nbformat_minor": 5
}
